{
 "cells": [
  {
   "cell_type": "code",
   "execution_count": null,
   "id": "a8f3760a-3eb2-4383-b055-3f35cf99e521",
   "metadata": {},
   "outputs": [],
   "source": [
    "from depolarization3qubitcode import * #Import previously defined functions - see basic 3 qubit code\n",
    "import numpy as np\n",
    "import time\n",
    "import matplotlib.pyplot as plt"
   ]
  },
  {
   "cell_type": "markdown",
   "id": "eb06f34f-b543-4ba1-81a5-9b9e0a85e09a",
   "metadata": {},
   "source": [
    "# 3-Qubit Bit Flip Code with Depolarization Errors\n",
    "#### Krauss Error Channels\n",
    "A density matrix $\\rho$ is a semi-positive-definite ($\\langle\\psi|\\rho|\\psi\\rangle \\geq 0, \\forall |\\psi\\rangle$) Hermitian matrix ($\\rho\\rho^{\\dagger}$ = 1) with real non-negativeeigenvalues and unit trace $\\text{tr}(\\rho) = 1$. Evolution transformations must preserve these properties, such transformations are called completely-positive trace-preservinp (CPTP) maps:\n",
    "$$\n",
    "\\rho' = \\rho(t + \\triangle t) = \\sum_l K_l \\rho(t) K_l^{\\dagger} \n",
    "$$\n",
    "$$\n",
    "\\sum_l K_l^\\dagger K_l  = I\n",
    "$$\n",
    "For our first example, we will consider the depolarizing channel, where\n",
    "$$\n",
    "K_0 = \\sqrt{1 - p_1} I, K_1 = \\sqrt{\\frac{p_1}{3}}X, K_2 = \\sqrt{\\frac{p_1}{3}}Z, K_3 = \\sqrt{\\frac{p_1}{3}}Y\n",
    "$$\n",
    "It's easy to see $\\sum_l K_l^\\dagger K_l  = I$. Equivalently we can say the depolarizing channel has the effect:\n",
    "$$\n",
    "\\epsilon(\\rho) = (1-p_1)\\rho + \\frac{p}{3}\\left(X\\rho X +Y \\rho Y^\\dagger + Z \\rho Z\\right) \n",
    "$$\n",
    "\n",
    "Remember, the probability of a given density matrix $\\rho$ giving outcome $i$ is\n",
    "$$\n",
    "p_i=\\text{tr}(P_i\\rho),\n",
    "$$\n",
    "So let's create a function to implement this"
   ]
  },
  {
   "cell_type": "code",
   "execution_count": null,
   "id": "55fd2445-7ab1-4d00-9aa8-5a8156b60fad",
   "metadata": {},
   "outputs": [],
   "source": [
    "def depolarizing_error(rho, p, qubit=None, all=False):\n",
    "    k_0 = np.sqrt(1 - p) * Identity\n",
    "    k_1 = np.sqrt(p/3) * X_gate\n",
    "    k_2 = np.sqrt(p/3) * Z_gate\n",
    "    k_3 = np.sqrt(p/3) * Y_gate\n",
    "\n",
    "    num_qubits = int(np.log2(rho.shape[0]))\n",
    "\n",
    "    if all:\n",
    "        for i in range(num_qubits):\n",
    "            K0 = tensor_product(np.eye(2**i), k_0, np.eye(2**(num_qubits - i - 1)))\n",
    "            K1 = tensor_product(np.eye(2**i), k_1, np.eye(2**(num_qubits - i - 1)))\n",
    "            K2 = tensor_product(np.eye(2**i), k_2, np.eye(2**(num_qubits - i - 1)))\n",
    "            K3 = tensor_product(np.eye(2**i), k_3, np.eye(2**(num_qubits - i - 1)))\n",
    "        \n",
    "            rho = K0 @ rho @ K0.T + K1 @ rho @ K1.T + K2 @ rho @ K2.T + K3 @ rho @ K3.conj().T\n",
    "    \n",
    "        return rho\n",
    "\n",
    "    else:\n",
    "        if qubit is None:\n",
    "            raise ValueError(\"qubit must be specified when applying to specific qubit\")\n",
    "\n",
    "        K0 = tensor_product(np.eye(2**qubit), k_0, np.eye(2**(num_qubits - qubit - 1)))\n",
    "        K1 = tensor_product(np.eye(2**qubit), k_1, np.eye(2**(num_qubits - qubit - 1)))\n",
    "        K2 = tensor_product(np.eye(2**qubit), k_2, np.eye(2**(num_qubits - qubit - 1)))\n",
    "        K3 = tensor_product(np.eye(2**qubit), k_3, np.eye(2**(num_qubits - qubit - 1)))\n",
    "\n",
    "        rho = K0 @ rho @ K0.T + K1 @ rho @ K1.T + K2 @ rho @ K2.T + K3 @ rho @ K3.conj().T\n",
    "\n",
    "        return rho"
   ]
  },
  {
   "cell_type": "markdown",
   "id": "ec95d5de-83e1-4045-bfa5-9eb147911b6d",
   "metadata": {},
   "source": [
    "We just consider depolarization errors as 'gate errors'. So, after a gate is applied, the qubit will be erronus with some probability. We can see how the three qubit code does over many cycles with depolarization errors. We also apply depolarization errors on the conditional corrections (effectively conditional X gates)."
   ]
  },
  {
   "cell_type": "code",
   "execution_count": null,
   "id": "53413fae-273d-430e-9ef1-15f365ec93d9",
   "metadata": {},
   "outputs": [],
   "source": [
    "def depolarization_3_qubit_cycle_sim(cycles=100, repetitions=1000):\n",
    "    average_fidelities = np.zeros(cycles + 1)  # Initialize average fidelities to zero\n",
    "    \n",
    "    for _ in range(repetitions):\n",
    "        # Generate initial states\n",
    "        initial_density_matrix = state_to_density_matrix(ket_0)\n",
    "        encoded_density = encode_logical_density_matrix(initial_density_matrix)\n",
    "        \n",
    "        fidelities = [1.0]  # Start with fidelity of 1 for the initial state\n",
    "        current_density = encoded_density\n",
    "\n",
    "        # Loop over cycles\n",
    "        for cycle in range(cycles):\n",
    "            ancilla_added_density = rho_add_ancilla_qubits(current_density)\n",
    "            result, rho_post = rho_measure_rightmost_2_qubits(ancilla_added_density)\n",
    "            corrected_density = rho_correct_density_matrix(rho_post, result)\n",
    "            reshaped_array = corrected_density.reshape([8, 4, 8, 4])\n",
    "            current_density = np.einsum('jiki->jk', reshaped_array)\n",
    "            fidelity_value = np.real(fidelity(encoded_density, current_density))\n",
    "            fidelities.append(fidelity_value)\n",
    "        \n",
    "        # Add the fidelities from this repetition to the running total\n",
    "        average_fidelities += np.array(fidelities)\n",
    "    \n",
    "    # Calculate the average fidelities over all repetitions\n",
    "    average_fidelities /= repetitions\n",
    "    \n",
    "    return average_fidelities"
   ]
  },
  {
   "cell_type": "code",
   "execution_count": null,
   "id": "ee6dcd6c-4e09-499d-8a99-2a620e7230c7",
   "metadata": {},
   "outputs": [],
   "source": [
    "cycles = 30\n",
    "repetitions = 1024\n",
    "start_time = time.time()\n",
    "average_fidelities = depolarization_3_qubit_cycle_sim(cycles=cycles, repetitions=repetitions)\n",
    "end_time = time.time()\n",
    "\n",
    "time_taken = end_time - start_time\n",
    "\n",
    "\n",
    "# Print time taken\n",
    "print(f\"Time taken for {cycles} cycles: {time_taken:.2f} seconds\")"
   ]
  },
  {
   "cell_type": "markdown",
   "id": "e0460b8f-de5a-401d-a465-df19f38fc83b",
   "metadata": {},
   "source": [
    "Note that for this example, we have encoded the state as $|000\\rangle$, so the logical state won't be affected by phase errors. For this, we've set $p = 0.005$ (see depolarization3qubitcode.py), as this is the 2 qubit gate error on ibm_torino at the time of writing (see https://quantum.ibm.com/services)."
   ]
  },
  {
   "cell_type": "code",
   "execution_count": null,
   "id": "1e9a652b-e840-4af3-a62f-24fd12cac4da",
   "metadata": {},
   "outputs": [],
   "source": [
    "# plt.figure(figsize=(10, 6))\n",
    "plt.plot(range(cycles + 1), average_fidelities,)\n",
    "plt.title(f'Average Fidelity over {cycles} Cycles')\n",
    "plt.xlabel('Cycles', fontsize=14)\n",
    "plt.ylabel('Fidelity', fontsize=14)\n",
    "plt.grid(True)\n",
    "plt.xticks(range(0, cycles + 1, max(1, cycles // 10)))\n",
    "# plt.yticks(np.linspace(0, 1, 11))\n",
    "\n",
    "\n",
    "# Display the plot\n",
    "plt.show()"
   ]
  },
  {
   "cell_type": "markdown",
   "id": "0562db8e-e1a0-481b-84ee-f6e793873fde",
   "metadata": {},
   "source": [
    "This illustrates the dual continous / discrete nature of quantum errors. When a depolarization occurs, we're in a superposition of no error and error. However, when we measure our ancilla qubits, the system collapses in a definite error/no error state. For a simple example, if we just consider bit flip errors ($K_1 = \\sqrt{\\frac{p_1}{3}}X$), our state could be:\n",
    "$$\n",
    "\\sqrt{0.98}|000\\rangle\\otimes |00\\rangle + \\sqrt{0.01}|010\\rangle\\otimes |11\\rangle + \\sqrt{0.01}|001\\rangle\\otimes|01\\rangle.\n",
    "$$\n",
    "Then, when the ancilla qubits are measured, the result will be $|00\\rangle$ 98% of the time (no error) or $|11\\rangle$/$|01\\rangle$ 2% of the time. So in the rare case the state collapses to an errornus state, we can still correct it as normal. However, when applying corrections, the gates will cause some depolarization error, hence a drop in fidelity. \n",
    "\n",
    "\n",
    "But this only works because we are effectively only allowing bit flip errors (as we're encoding $|0\\rangle_L$), which the bit flip code is (quite) good at correcting. Now let's see how it does for a random inital state."
   ]
  },
  {
   "cell_type": "code",
   "execution_count": null,
   "id": "25b0f33d-9893-4202-b715-d74a5ad56c3f",
   "metadata": {},
   "outputs": [],
   "source": [
    "# Function to generate a random normalized quantum state\n",
    "def generate_random_state():\n",
    "    # Generate random complex numbers for a and b\n",
    "    a = np.random.rand() + 1j * np.random.rand()\n",
    "    b = np.random.rand() + 1j * np.random.rand()\n",
    "\n",
    "    # Normalize the state\n",
    "    norm_factor = np.sqrt(np.abs(a)**2 + np.abs(b)**2)\n",
    "    a_normalized = a / norm_factor\n",
    "    b_normalized = b / norm_factor\n",
    "\n",
    "    return a_normalized, b_normalized\n",
    "\n",
    "global a, b\n",
    "a, b = generate_random_state()\n",
    "print(a,b)"
   ]
  },
  {
   "cell_type": "code",
   "execution_count": null,
   "id": "cc40cd6b-c5ee-4017-965c-5499bef1fc26",
   "metadata": {},
   "outputs": [],
   "source": [
    "def depolarization_3_qubit_cycle_sim(cycles=100, repetitions=1000):\n",
    "    average_fidelities = np.zeros(cycles + 1)  # Initialize average fidelities to zero\n",
    "    \n",
    "    for _ in range(repetitions):\n",
    "        #Create initial state\n",
    "        global a, b\n",
    "        initial_state = a * ket_0 + b * ket_1\n",
    "        # Generate initial states\n",
    "        initial_density_matrix = state_to_density_matrix(initial_state)\n",
    "        encoded_density = encode_logical_density_matrix(initial_density_matrix)\n",
    "        \n",
    "        fidelities = [1.0]  # Start with fidelity of 1 for the initial state\n",
    "        current_density = encoded_density\n",
    "\n",
    "        # Loop over cycles\n",
    "        for cycle in range(cycles):\n",
    "            ancilla_added_density = rho_add_ancilla_qubits(current_density)\n",
    "            result, rho_post = rho_measure_rightmost_2_qubits(ancilla_added_density)\n",
    "            corrected_density = rho_correct_density_matrix(rho_post, result)\n",
    "            reshaped_array = corrected_density.reshape([8, 4, 8, 4])\n",
    "            current_density = np.einsum('jiki->jk', reshaped_array)\n",
    "            fidelity_value = np.real(fidelity(encoded_density, current_density))\n",
    "            fidelities.append(fidelity_value)\n",
    "        \n",
    "        # Add the fidelities from this repetition to the running total\n",
    "        average_fidelities += np.array(fidelities)\n",
    "    \n",
    "    # Calculate the average fidelities over all repetitions\n",
    "    average_fidelities /= repetitions\n",
    "    \n",
    "    return average_fidelities"
   ]
  },
  {
   "cell_type": "markdown",
   "id": "2f66a2a4-b283-4eb6-b560-930f01ee7156",
   "metadata": {},
   "source": [
    "Let's also add in a physical qubit for comparison. We consider an identity gate to be applied at each time-step: a complete cycle of our error correction process, is composed of 6 \"timesteps\"(4 \"timesteps\" for entangling ancilla qubits, 1 for measuring the ancilla qubits, and a (lower-bound) of 1 timestep for applying corrections). "
   ]
  },
  {
   "cell_type": "code",
   "execution_count": null,
   "id": "dee6adb5-159c-4a5d-8a30-c29173b21562",
   "metadata": {},
   "outputs": [],
   "source": [
    "def depolarization_physical_cycle_sim(cycles=100, error_prob=3.1e-4):\n",
    "    # Generate initial state\n",
    "    global a, b\n",
    "    initial_state = a * ket_0 + b * ket_1\n",
    "    initial_density_matrix = state_to_density_matrix(initial_state)\n",
    "    \n",
    "    # Initialize list to store fidelity values\n",
    "    fidelity_values = [1]  # Start with fidelity 1 at cycle 0\n",
    "    current_density = initial_density_matrix\n",
    "    # Loop over the cycles\n",
    "    for _ in range(cycles):\n",
    "\n",
    "        # Apply depolarizaiton error (identity operation with relaxation)\n",
    "        for i in range(6):\n",
    "            rho =  depolarizing_error(current_density, error_prob, all=True) \n",
    "            current_density = rho\n",
    "\n",
    "        fid_value = np.real(fidelity(initial_density_matrix, current_density))\n",
    "        fidelity_values.append(fid_value)  \n",
    "    \n",
    "    return fidelity_values\n",
    "\n",
    "physical_fidelities = depolarization_physical_cycle_sim(cycles = 10)"
   ]
  },
  {
   "cell_type": "code",
   "execution_count": null,
   "id": "9f7fed20-48c2-415e-92d2-3e66823438a1",
   "metadata": {},
   "outputs": [],
   "source": [
    "cycles = 10\n",
    "repetitions = 8192\n",
    "start_time = time.time()\n",
    "average_fidelities = depolarization_3_qubit_cycle_sim(cycles=cycles, repetitions=repetitions)\n",
    "end_time = time.time()\n",
    "\n",
    "time_taken = end_time - start_time\n",
    "\n",
    "# Print time taken\n",
    "print(f\"Time taken for {cycles} cycles: {time_taken:.2f} seconds\")"
   ]
  },
  {
   "cell_type": "code",
   "execution_count": null,
   "id": "77a1d320-b5ae-4a24-8a63-9cb4760d7f0d",
   "metadata": {},
   "outputs": [],
   "source": [
    "plt.plot(range(cycles + 1), average_fidelities, label='Logical qubit')  # Adding label for legend\n",
    "plt.plot(range(cycles + 1), physical_fidelities, label='Physical qubit', linestyle='--')  # Adding a line for physical qubit with fidelity = 1\n",
    "# plt.title(f'Average Fidelity over {cycles} Cycles')\n",
    "plt.xlabel('Cycle', fontsize=14)\n",
    "plt.ylabel('Fidelity', fontsize=14)\n",
    "plt.grid(True)\n",
    "plt.xticks(range(0, cycles + 1, max(1, cycles // 10)))\n",
    "# plt.yticks(np.linspace(0, 1, 11))\n",
    "\n",
    "plt.legend()  # Display the legend\n",
    "\n",
    "# Display the plot\n",
    "plt.show()"
   ]
  },
  {
   "cell_type": "markdown",
   "id": "1eefc6c1-18cf-4fb7-9640-7985a552161c",
   "metadata": {},
   "source": [
    "As expected, because depolarization errors now have more ways to manifest, we see the performance of the code drops with a random initial state. "
   ]
  }
 ],
 "metadata": {
  "kernelspec": {
   "display_name": "Python 3 (ipykernel)",
   "language": "python",
   "name": "python3"
  },
  "language_info": {
   "codemirror_mode": {
    "name": "ipython",
    "version": 3
   },
   "file_extension": ".py",
   "mimetype": "text/x-python",
   "name": "python",
   "nbconvert_exporter": "python",
   "pygments_lexer": "ipython3",
   "version": "3.8.18"
  }
 },
 "nbformat": 4,
 "nbformat_minor": 5
}
