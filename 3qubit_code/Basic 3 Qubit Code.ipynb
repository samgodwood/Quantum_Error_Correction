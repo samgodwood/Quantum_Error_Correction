{
 "cells": [
  {
   "cell_type": "markdown",
   "id": "d6cb2fcb-d4a9-4aa6-8310-67f1d9cf6b5f",
   "metadata": {},
   "source": [
    "# 3 Qubit Bit flip code\n",
    "\n",
    "## Statevector approach\n",
    "\n",
    "\n",
    "### Definitions\n",
    "\n",
    "Throughout, we use big-endian (the first qubit is the most significant). First, we define our basis states $|0\\rangle$ and $|1\\rangle$, along with basic quantum gates (Pauli $X, Y, Z,$ Hadamard, and CNOT). "
   ]
  },
  {
   "cell_type": "code",
   "execution_count": 1,
   "id": "3f2a0846-a005-4a19-9568-eef30405a760",
   "metadata": {},
   "outputs": [
    {
     "name": "stdout",
     "output_type": "stream",
     "text": [
      "Pauli X gate (NOT gate): \n",
      " [[0 1]\n",
      " [1 0]]\n",
      "Hadamard gate: \n",
      " [[ 0.70710678  0.70710678]\n",
      " [ 0.70710678 -0.70710678]]\n"
     ]
    }
   ],
   "source": [
    "import numpy as np\n",
    "from scipy.linalg import sqrtm\n",
    "\n",
    "\n",
    "# Define basis states\n",
    "ket_0 = np.array([[1], [0]])\n",
    "ket_1 = np.array([[0], [1]])\n",
    "\n",
    "# Define Pauli gates\n",
    "X_gate = np.array([[0, 1], [1, 0]])\n",
    "Y_gate = np.array([[0,1j],[-1j,0]])\n",
    "Z_gate = np.array([[1,0],[0,-1]])\n",
    "Identity = np.identity(2)\n",
    "\n",
    "#Extra gates\n",
    "Hadamard = 1/np.sqrt(2)*np.array([[1,1],[1,-1]])\n",
    "                               \n",
    "#Define CNOT gate\n",
    "cnot_matrix = np.array([[1, 0, 0, 0], [0, 1, 0, 0], [0, 0, 0, 1], [0, 0, 1, 0]])\n",
    "\n",
    "#Print some examples\n",
    "print(\"Pauli X gate (NOT gate): \\n\", X_gate) \n",
    "print(\"Hadamard gate: \\n\", Hadamard)"
   ]
  },
  {
   "cell_type": "markdown",
   "id": "88b2536c-6c60-4fc2-9cbf-883c65975180",
   "metadata": {},
   "source": [
    "We now define two functions:\n",
    "1. `tensor_product(*args)` instead of having to use `np.kron`.\n",
    "2. `encode_logical_state(input_qubit)` to encode a single qubit state into a logical qubit using the 3-qubit bit-flip code encoding."
   ]
  },
  {
   "cell_type": "code",
   "execution_count": 2,
   "id": "a3e9f731-48b0-45f5-b14d-284b6ea10859",
   "metadata": {},
   "outputs": [
    {
     "name": "stdout",
     "output_type": "stream",
     "text": [
      "Initial state: \n",
      " [[0.70710678]\n",
      " [0.        ]\n",
      " [0.        ]\n",
      " [0.        ]\n",
      " [0.70710678]\n",
      " [0.        ]\n",
      " [0.        ]\n",
      " [0.        ]] \n",
      "\n",
      "Encoded state: \n",
      " [[0.70710678]\n",
      " [0.        ]\n",
      " [0.        ]\n",
      " [0.        ]\n",
      " [0.        ]\n",
      " [0.        ]\n",
      " [0.        ]\n",
      " [0.70710678]]\n"
     ]
    }
   ],
   "source": [
    "def tensor_product(*args):\n",
    "    # Assume args is a list of matrices\n",
    "    result = np.eye(1)\n",
    "    for mat in args:\n",
    "        result = np.kron(result, mat)\n",
    "    return result\n",
    "\n",
    "# Tensor product to create a 3-qubit CNOT with control on qubit 1 and target on qubit 2\n",
    "# Tensor product to create a 3-qubit CNOT with control on qubit 2 and target on qubit 3\n",
    "CNOT_12 = tensor_product(cnot_matrix, Identity)\n",
    "CNOT_23 = tensor_product(Identity, cnot_matrix)\n",
    "\n",
    "def encode_logical_state(input_qubit):\n",
    "    initial_state = tensor_product(input_qubit, ket_0, ket_0)\n",
    "    # Apply the CNOT gates\n",
    "    encoded = np.dot(CNOT_23, np.dot(CNOT_12, initial_state))\n",
    "    return encoded\n",
    "\n",
    "#Example for encoding 1/sqrt2 (|0> + |1>)\n",
    "print(\"Initial state: \\n\", tensor_product(np.dot(Hadamard,ket_0), ket_0, ket_0), \"\\n\")\n",
    "print(\"Encoded state: \\n\", encode_logical_state(np.dot(Hadamard,ket_0)))"
   ]
  },
  {
   "cell_type": "markdown",
   "id": "4f11a464-2842-44f4-a4e9-71427b9425ed",
   "metadata": {},
   "source": [
    "Next, we implement the `error_channel` function, which introduces random bit-flip errors to a qubit based on a given error probability $p$. Qubits undergo errors independently."
   ]
  },
  {
   "cell_type": "code",
   "execution_count": 3,
   "id": "d2f07eba-f5e9-40f1-94b6-d16cd1e6f8ef",
   "metadata": {},
   "outputs": [],
   "source": [
    "def bit_flip_error_channel(state, p):\n",
    "    # Define our error gate for the bit flip\n",
    "    I = np.eye(2)\n",
    "    X = np.array([[0, 1], [1, 0]])\n",
    "    \n",
    "    # Potential operations for each qubit\n",
    "    operations = [I, X]\n",
    "    \n",
    "    # Decide potential errors independently for each qubit\n",
    "    error_indices = [np.random.choice([0, 1], p=[1-p, p]) for _ in range(3)]\n",
    "    \n",
    "    # Get the operators corresponding to the chosen errors\n",
    "    error_operators = [operations[i] for i in error_indices]\n",
    "    \n",
    "    # Create the full error operator for the 3-qubit state\n",
    "    error_to_apply = tensor_product(*error_operators)\n",
    "    \n",
    "    # Apply the error\n",
    "    error_state = np.dot(error_to_apply, state)\n",
    "    \n",
    "    return error_state"
   ]
  },
  {
   "cell_type": "markdown",
   "id": "e9f74685-c164-4ad1-a332-3d5d705ec77a",
   "metadata": {},
   "source": [
    "Now let's append our two ancilla qubits to our (potentially) erronus state. The ancilla qubits are initialised in the $|0\\rangle$ state and then entangled with the (potentailly) erronus state via CNOT gates. To do this, we need to add definitions for non-adjacent CNOT gates."
   ]
  },
  {
   "cell_type": "code",
   "execution_count": 4,
   "id": "4af0d8bb-eea0-4766-9b60-9c96f883ccf8",
   "metadata": {},
   "outputs": [],
   "source": [
    "#5 qubit CNOT definitions\n",
    "\n",
    "#First, qubit 0 (control) qubit 3 (targer)\n",
    "# Create a 16x16 numpy array of zeros for the CNOT operation\n",
    "cnot_array = np.zeros((16, 16), dtype=int)\n",
    "\n",
    "# Mapping from CNOT operation\n",
    "cnot_mappings = {\n",
    "    16: 18, 17: 19, 18: 16, 19: 17,\n",
    "    20: 22, 21: 23, 22: 20, 23: 21,\n",
    "    24: 26, 25: 27, 26: 24, 27: 25,\n",
    "    28: 30, 29: 31, 30: 28, 31: 29\n",
    "}\n",
    "\n",
    "# Set the 'target' elements to 1 in the CNOT array\n",
    "for source, target in cnot_mappings.items():\n",
    "    cnot_array[source-16, target-16] = 1  # Adjusting for zero-based indexing\n",
    "\n",
    "# Create a 32x32 identity matrix\n",
    "CNOT_0_3    = np.eye(32, dtype=int)\n",
    "\n",
    "# Replace the lower 16x16 block of i32 with the CNOT array\n",
    "CNOT_0_3[16:32, 16:32] = cnot_array\n",
    "\n",
    "#--------------------------------------------------------------------------------------------------------------------------------------------\n",
    "\n",
    "# qubit 1 (control) qubit 3 (target)\n",
    "\n",
    "# Mapping for CNOT operation with qubit 1 as control and qubit 3 as target\n",
    "cnot_1_3_mappings = {\n",
    "    8: 10, 9: 11, 10: 8, 11: 9,\n",
    "    12: 14, 13: 15, 14: 12, 15: 13,\n",
    "    24: 26, 25: 27, 26: 24, 27: 25,\n",
    "    28: 30, 29: 31, 30: 28, 31: 29\n",
    "}\n",
    "\n",
    "# Create a 32x32 identity matrix\n",
    "cnot_1_3_identity_array = np.eye(32, dtype=int)\n",
    "\n",
    "# Update only the specific elements based on the CNOT mapping\n",
    "for source, target in cnot_1_3_mappings.items():\n",
    "    # Set the original identity element to 0\n",
    "    cnot_1_3_identity_array[source, source] = 0\n",
    "    # Set the new target element to 1\n",
    "    cnot_1_3_identity_array[source, target] = 1\n",
    "\n",
    "CNOT_1_3 = cnot_1_3_identity_array\n",
    "\n",
    "#--------------------------------------------------------------------------------------------------------------------------------------------\n",
    "\n",
    "#qubit 1 (control) qubit 4 (target)\n",
    "\n",
    "# Mapping for CNOT operation with qubit 1 as control and qubit 4 as target (0 through 31)\n",
    "cnot_1_4_mappings = {\n",
    "    8: 9, 9: 8, 10: 11, 11: 10,\n",
    "    12: 13, 13: 12, 14: 15, 15: 14,\n",
    "    24: 25, 25: 24, 26: 27, 27: 26,\n",
    "    28: 29, 29: 28, 30: 31, 31: 30\n",
    "}\n",
    "\n",
    "# Create a 32x32 identity matrix\n",
    "cnot_1_4_identity_array = np.eye(32, dtype=int)\n",
    "\n",
    "# Update only the specific elements based on the CNOT mapping\n",
    "for source, target in cnot_1_4_mappings.items():\n",
    "    # Set the original identity element to 0 for affected states\n",
    "    cnot_1_4_identity_array[source, source] = 0\n",
    "    # Set the new target element to 1\n",
    "    cnot_1_4_identity_array[source, target] = 1\n",
    "\n",
    "CNOT_1_4 = cnot_1_4_identity_array\n",
    "\n",
    "\n",
    "#--------------------------------------------------------------------------------------------------------------------------------------------\n",
    "\n",
    "#qubit 2 (control) qubit 4 (target)\n",
    "\n",
    "# Mapping for CNOT operation with qubit 1 as control and qubit 4 as target (0 through 31)\n",
    "cnot_2_4_mappings = {\n",
    "    4:5, 5:4, 6:7, 7:6,\n",
    "    12:13, 13:12, 14:15, 15:14,\n",
    "    20:21, 21:20, 22:23, 23:22,\n",
    "    28:29, 29:28, 30:31, 31:30\n",
    "    \n",
    "}\n",
    "\n",
    "# Create a 32x32 identity matrix\n",
    "cnot_2_4_identity_array = np.eye(32, dtype=int)\n",
    "\n",
    "# Update only the specific elements based on the CNOT mapping\n",
    "for source, target in cnot_2_4_mappings.items():\n",
    "    # Set the original identity element to 0 for affected states\n",
    "    cnot_2_4_identity_array[source, source] = 0\n",
    "    # Set the new target element to 1\n",
    "    cnot_2_4_identity_array[source, target] = 1\n",
    "\n",
    "CNOT_2_4 = cnot_2_4_identity_array"
   ]
  },
  {
   "cell_type": "code",
   "execution_count": 5,
   "id": "7c3c69f9-cbca-48e5-864d-9299197bc5b8",
   "metadata": {},
   "outputs": [],
   "source": [
    "def add_ancilla_qubits(error_state):\n",
    "    ancilla_state = tensor_product(error_state, ket_0, ket_0)\n",
    "    \n",
    "    ancilla_state = np.dot(CNOT_0_3, ancilla_state)\n",
    "    ancilla_state = np.dot(CNOT_1_3, ancilla_state)\n",
    "    ancilla_state = np.dot(CNOT_1_4, ancilla_state)\n",
    "    ancilla_state = np.dot(CNOT_2_4, ancilla_state)\n",
    "\n",
    "    return ancilla_state"
   ]
  },
  {
   "cell_type": "markdown",
   "id": "610bd899-b9cb-4d84-845e-d7e92a03aa39",
   "metadata": {},
   "source": [
    "Now we want to measure our ancilla qubits. We implement a function to measure the two rightmost qubits (which, in this case, is our ncilla qubits). This function calculates the probabilities of each possible outcome for the two-qubit measurement (using projectors), and then simulates a measurement result based on these probabilities using numpys `random.choice`."
   ]
  },
  {
   "cell_type": "code",
   "execution_count": 6,
   "id": "f790977f-a635-462c-8cea-03db6a5fc8c9",
   "metadata": {},
   "outputs": [],
   "source": [
    "def measure_rightmost_2_qubits(state):\n",
    "    # Define projection operators for two qubits\n",
    "    P_00 = tensor_product(ket_0, ket_0).dot(tensor_product(ket_0, ket_0).T)\n",
    "    P_01 = tensor_product(ket_0, ket_1).dot(tensor_product(ket_0, ket_1).T)\n",
    "    P_10 = tensor_product(ket_1, ket_0).dot(tensor_product(ket_1, ket_0).T)\n",
    "    P_11 = tensor_product(ket_1, ket_1).dot(tensor_product(ket_1, ket_1).T)\n",
    "    \n",
    "    # Tensor projection operators with identity for the 3 leftmost qubits\n",
    "    I_3 = np.eye(8)  # Identity for 3 qubits\n",
    "    P_00_full = np.kron(I_3, P_00)\n",
    "    P_01_full = np.kron(I_3, P_01)\n",
    "    P_10_full = np.kron(I_3, P_10)\n",
    "    P_11_full = np.kron(I_3, P_11)\n",
    "    \n",
    "    # Compute probabilities for each outcome\n",
    "    p_00 = np.abs(state.T @ P_00_full @ state)[0, 0] #[0,0] to extract just a number\n",
    "    p_01 = np.abs(state.T @ P_01_full @ state)[0, 0]\n",
    "    p_10 = np.abs(state.T @ P_10_full @ state)[0, 0]\n",
    "    p_11 = np.abs(state.T @ P_11_full @ state)[0, 0]\n",
    "\n",
    "    # Ensure probabilities sum up to 1 (handling minor numerical inaccuracies)\n",
    "    total_prob = p_00 + p_01 + p_10 + p_11\n",
    "    p_00 /= total_prob\n",
    "    p_01 /= total_prob\n",
    "    p_10 /= total_prob\n",
    "    p_11 /= total_prob\n",
    "\n",
    "    # Randomly choose a measurement outcome based on the probabilities\n",
    "    outcomes = ['00', '01', '10', '11']\n",
    "    result = np.random.choice(outcomes, p=[p_00, p_01, p_10, p_11])\n",
    "\n",
    "    return result\n",
    "\n"
   ]
  },
  {
   "cell_type": "markdown",
   "id": "75d0f29f-420f-4287-8c43-906314199d47",
   "metadata": {},
   "source": [
    "We now define a correction function that uses the measurement outcome of the ancilla qubits to apply the appropriate error correction on the physical qubits. For example, if a bit flip is detected on the first qubit, we just apply $X_0I_1I_2I_3I_4$ to our state (including ancilla qubits)."
   ]
  },
  {
   "cell_type": "code",
   "execution_count": 7,
   "id": "3b706e85-3608-491d-9fff-3a06fdae46de",
   "metadata": {},
   "outputs": [],
   "source": [
    "def correct(state, result):\n",
    "    \"\"\"\n",
    "    Correct the state based on the measurement result of ancilla qubits.\n",
    "    \n",
    "    Parameters:\n",
    "    - state: The 3-qubit state to be corrected. It should be a numpy array of shape (32, 1) (including ancillas).\n",
    "    - result: The measurement outcome of the ancilla qubits. It should be one of ['00', '01', '10', '11'].\n",
    "    \n",
    "    Returns:\n",
    "    - corrected_state: The corrected 3-qubit state.\n",
    "    \"\"\"\n",
    "    # Define the correction operations\n",
    "    XII = tensor_product(X_gate, Identity, Identity, Identity, Identity)\n",
    "    IXI = tensor_product(Identity, X_gate, Identity, Identity, Identity)\n",
    "    IIX = tensor_product(Identity, Identity, X_gate, Identity, Identity)\n",
    "    \n",
    "    # Apply the correct operation based on the result\n",
    "    if result == '00':\n",
    "        # No correction needed\n",
    "        return state\n",
    "    elif result == '01':\n",
    "        return np.dot(IIX, state)\n",
    "    elif result == '10':\n",
    "        return np.dot(XII, state)\n",
    "    elif result == '11':\n",
    "        return np.dot(IXI, state)\n",
    "    else:\n",
    "        raise ValueError(\"Invalid measurement result. Expected one of ['00', '01', '10', '11'].\")"
   ]
  },
  {
   "cell_type": "markdown",
   "id": "d4636cf7-3bfd-494e-93e9-38c202a8fe35",
   "metadata": {},
   "source": [
    "In the `discard_ancilla_from_statevector` function, we effectively ignore the contributions from the ancilla qubits by summing over their dimensions and reshaping the result into a statevector that only represents the logical qubit. This is so that we can find the final state of the logical qubit, and check if we have corrected the error appropriately. (NOTE: This is not (?) the same as tracing out). This function is sufficent for this work, as we're only dealing with coherent errors."
   ]
  },
  {
   "cell_type": "code",
   "execution_count": 8,
   "id": "7cd1f1fe-9bb7-4926-b8a7-e08a8bc2d480",
   "metadata": {},
   "outputs": [],
   "source": [
    "def discard_ancilla_from_statevector(state_vector):\n",
    "    \"\"\"Discard the ancilla qubits from the statevector and return the state of the 3 logical qubits.\"\"\"\n",
    "    tensor_representation = state_vector.reshape([2]*5)  # Reshape to a 5-qubit tensor\n",
    "    reduced_state = np.sum(tensor_representation, axis=(3,4))  # Sum over the ancilla qubits\n",
    "    flattened_state = reduced_state.flatten().reshape((8,1))  # Flatten and reshape to column vector\n",
    "    return flattened_state/np.linalg.norm(flattened_state)  # Normalize and return"
   ]
  },
  {
   "cell_type": "markdown",
   "id": "c0e41684-24aa-4bf9-8559-3afefe6e4d7a",
   "metadata": {},
   "source": [
    "Now, we combine all the previously defined components to create a simulation for the three-qubit bit-flip code. The `three_qubit_bit_code_simulation` function takes inputs of initial state and single qubit bit flip error probability and then:\n",
    "\n",
    "1. Encodes the initial state\n",
    "2. Introduce (potential) bit-flip errors on the encoded state\n",
    "3. Appeneds two ancilla qubits\n",
    "4. Measures the ancilla qubits to detect potential errors\n",
    "5. Corrects the errors based on the measurement result of the ancilla qubits\n",
    "6. Discards the ancilla qubits to obtain the final state of the 3 logical qubits\n",
    "7. Compares the final state to the iniital \n",
    "\n"
   ]
  },
  {
   "cell_type": "code",
   "execution_count": 9,
   "id": "0792c10b-8a37-48c6-893b-ed13e5be930b",
   "metadata": {},
   "outputs": [],
   "source": [
    "def three_qubit_bit_code_simulation(initial_state, p, repetitions=1000):\n",
    "    successes = 0\n",
    "    for _ in range(repetitions):\n",
    "        # The whole process: encoding, applying error, adding ancillas, measuring, correcting, discarding ancillas.\n",
    "        encoded_state = encode_logical_state(initial_state)\n",
    "        error_applied_state = bit_flip_error_channel(encoded_state, p)\n",
    "        ancilla_added_state = add_ancilla_qubits(error_applied_state)\n",
    "        result = measure_rightmost_2_qubits(ancilla_added_state)\n",
    "        corrected_state = correct(ancilla_added_state, result)\n",
    "        final_state = discard_ancilla_from_statevector(corrected_state)\n",
    "        \n",
    "        # Check if the final state matches the initial encoded state.\n",
    "        if np.allclose(final_state, encoded_state):\n",
    "            successes += 1\n",
    "\n",
    "    return successes / repetitions  # Return the success rate."
   ]
  },
  {
   "cell_type": "markdown",
   "id": "dc829f6b-4fee-4bb9-88ca-a4e8334f758f",
   "metadata": {},
   "source": [
    "Now we can analyze the effectiveness of our 3-qubit bit-flip code by simulating its success rate for varying error probabilities. We also plot the 'theoretical' success rate $1 - (3p^2 - 2p^3)$, which is the probability we stay in the correctable space (i.e. probability of only 0 or 1 bit flips occuring)."
   ]
  },
  {
   "cell_type": "code",
   "execution_count": 10,
   "id": "6c4746e3-faef-4ac3-af82-280f91090415",
   "metadata": {},
   "outputs": [
    {
     "name": "stdout",
     "output_type": "stream",
     "text": [
      "Time taken:  7.12787127494812 \n",
      "\n"
     ]
    },
    {
     "data": {
      "image/png": "[encoded data removed]",
      "text/plain": [
       "<Figure size 640x480 with 1 Axes>"
      ]
     },
     "metadata": {},
     "output_type": "display_data"
    }
   ],
   "source": [
    "import matplotlib.pyplot as plt\n",
    "import time\n",
    "\n",
    "# List of error probabilities to consider.\n",
    "error_probs = np.linspace(0, 0.5, 5)\n",
    "\n",
    "start_time = time.time()\n",
    "# Calculate success rates for each error probability.\n",
    "success_rates = [three_qubit_bit_code_simulation(ket_0, p) for p in error_probs]\n",
    "end_time = time.time()\n",
    "\n",
    "# Theoretical success rates for the 3-qubit bit-flip code.\n",
    "theoretical_success_rates = [1 - (3*p**2 - 2*p**3) for p in error_probs]\n",
    "print(\"Time taken: \", end_time - start_time, \"\\n\")\n",
    "# Plot the results.\n",
    "plt.plot(error_probs, success_rates, label='Simulation')\n",
    "plt.plot(error_probs, theoretical_success_rates, label='Theoretical', linestyle='--')\n",
    "plt.xlabel('Error Probability (p)')\n",
    "plt.ylabel('Success Rate')\n",
    "plt.title('Success Rate of 3-Qubit Bit-Flip Code')\n",
    "plt.legend()\n",
    "plt.grid(True)\n",
    "plt.show()"
   ]
  },
  {
   "cell_type": "markdown",
   "id": "77748a20-b2ed-47bd-b1e7-4a9846783f23",
   "metadata": {},
   "source": [
    "### Limitations of this Simulation\n",
    "\n",
    "1. **Bit-flip Errors Only**: Only introduces for bit-flip errors.\n",
    "2. **Perfect Gates**: Gates don't introduce errors.\n",
    "3. **Ideal Ancilla Qubits**: Ancilla qubits are error-free.\n",
    "4. **No Measurement Errors**: Measurements are assumed to be perfect and don't themselves introduce errors.\n",
    "5. **State Vector Simplification**: The method to discard ancilla qubits involves a simplification and doesn't truly represent the act of \"tracing out\" qubits.\n",
    "6. **Connectivity**: Doesn't consider qubit connectivity.\n"
   ]
  },
  {
   "cell_type": "markdown",
   "id": "22d7fb53-4122-49b2-991e-f0e4f91afc8b",
   "metadata": {},
   "source": [
    "## Density Matrix approach\n",
    "Our first step is to convert our statevector $|\\psi\\rangle$  into a density matrix $\\rho$, where $\\rho = |\\psi\\rangle\\langle\\psi|$."
   ]
  },
  {
   "cell_type": "code",
   "execution_count": 11,
   "id": "a8b5076a-b4fe-434b-84a2-537e9f17100d",
   "metadata": {},
   "outputs": [],
   "source": [
    "# Convert state vector to density matrix\n",
    "def state_to_density_matrix(state):\n",
    "    return np.outer(state, np.conj(state))"
   ]
  },
  {
   "cell_type": "markdown",
   "id": "c8be8420-08f4-4eac-a208-411a9ef7079f",
   "metadata": {},
   "source": [
    "The `encode_logical_density_matrix` function encodes the logical qubit. We keep track of the density matrix by taking the tensor product of the initial state with the $|0\\rangle$ states, followed by the CNOT gates. To apply a gate  $U$ to a density matrix, we use the following operation:\n",
    "$$\n",
    "\\large \\rho' = U \\rho U^\\dagger\n",
    "$$"
   ]
  },
  {
   "cell_type": "code",
   "execution_count": 12,
   "id": "6ebca03c-6911-4260-8f22-63445868de03",
   "metadata": {},
   "outputs": [
    {
     "name": "stdout",
     "output_type": "stream",
     "text": [
      "Initial density matrix: \n",
      " [[1 0]\n",
      " [0 0]] \n",
      "\n",
      "Encoded density matrix: \n",
      " [[1. 0. 0. 0. 0. 0. 0. 0.]\n",
      " [0. 0. 0. 0. 0. 0. 0. 0.]\n",
      " [0. 0. 0. 0. 0. 0. 0. 0.]\n",
      " [0. 0. 0. 0. 0. 0. 0. 0.]\n",
      " [0. 0. 0. 0. 0. 0. 0. 0.]\n",
      " [0. 0. 0. 0. 0. 0. 0. 0.]\n",
      " [0. 0. 0. 0. 0. 0. 0. 0.]\n",
      " [0. 0. 0. 0. 0. 0. 0. 0.]]\n"
     ]
    }
   ],
   "source": [
    "def encode_logical_density_matrix(input_density_matrix):\n",
    "    # Start with the tensor product of the input density matrix and the |0><0| state for two qubits\n",
    "    initial_density = tensor_product(input_density_matrix, ket_0 @ ket_0.T, ket_0 @ ket_0.T)\n",
    "    \n",
    "    # Apply the CNOT gates\n",
    "    encoded = np.dot(CNOT_12, np.dot(initial_density, CNOT_12.T))\n",
    "    encoded = np.dot(CNOT_23, np.dot(encoded, CNOT_23.T))\n",
    "\n",
    "    return encoded\n",
    "\n",
    "# Convert the state to a density matrix\n",
    "initial_rho = state_to_density_matrix(ket_0)\n",
    "encoded_rho = encode_logical_density_matrix(initial_rho)\n",
    "\n",
    "#Example\n",
    "print(\"Initial density matrix: \\n\", initial_rho, \"\\n\") #|0><0|\n",
    "print(\"Encoded density matrix: \\n\", encoded_rho) #|000><000|"
   ]
  },
  {
   "cell_type": "markdown",
   "id": "6d1f39fd-976e-4010-a184-247f2613d3bb",
   "metadata": {},
   "source": [
    "As with the statevector formalism, we implement the `rho_error_channel` function, which introduces random bit-flip errors to a qubit based on a given error probability $p$. Qubits undergo errors independently."
   ]
  },
  {
   "cell_type": "code",
   "execution_count": 13,
   "id": "2af68a6a-b29e-4c26-9a7d-f7ac2232a4e0",
   "metadata": {},
   "outputs": [],
   "source": [
    "def rho_error_channel(rho, p):\n",
    "    # Define our error gate for the bit flip\n",
    "    I = np.eye(2)\n",
    "    X = np.array([[0, 1], [1, 0]])\n",
    "    \n",
    "    # Potential operations for each qubit\n",
    "    operations = [I, X]\n",
    "    \n",
    "    # Decide potential errors independently for each qubit\n",
    "    error_indices = [np.random.choice([0, 1], p=[1-p, p]) for _ in range(3)]\n",
    "    \n",
    "    # Get the operators corresponding to the chosen errors\n",
    "    error_operators = [operations[i] for i in error_indices]\n",
    "    \n",
    "    # Create the full error operator for the 3-qubit state\n",
    "    error_to_apply = tensor_product(*error_operators)\n",
    "    \n",
    "    # Apply the error\n",
    "    error_state = np.dot(error_to_apply, np.dot(rho, error_to_apply.T))\n",
    "    \n",
    "    return error_state"
   ]
  },
  {
   "cell_type": "markdown",
   "id": "e139a62f-c09b-4d86-b850-8d9a31664965",
   "metadata": {},
   "source": [
    "Now let's append our two ancilla qubits to our (potentially) erronus state. The ancilla qubits are initialised in the $|0\\rangle\\langle0|$ state and then entangled with the (potentailly) erronus state via CNOT gates."
   ]
  },
  {
   "cell_type": "code",
   "execution_count": 14,
   "id": "e4237d37-d2c0-4b96-8875-7b32c934081d",
   "metadata": {},
   "outputs": [],
   "source": [
    "def rho_add_ancilla_qubits(error_density_matrix):\n",
    "    # Tensor product with the initialized |0><0| states for the two ancilla qubits\n",
    "    ancilla_density_matrix = tensor_product(error_density_matrix, ket_0 @ ket_0.T, ket_0 @ ket_0.T)\n",
    "    \n",
    "    # Apply the CNOT gates on the ancilla qubits\n",
    "    ancilla_density_matrix = np.dot(CNOT_0_3, np.dot(ancilla_density_matrix, CNOT_0_3.T))\n",
    "    ancilla_density_matrix = np.dot(CNOT_1_3, np.dot(ancilla_density_matrix, CNOT_1_3.T))\n",
    "    ancilla_density_matrix = np.dot(CNOT_1_4, np.dot(ancilla_density_matrix, CNOT_1_4.T))\n",
    "    ancilla_density_matrix = np.dot(CNOT_2_4, np.dot(ancilla_density_matrix, CNOT_2_4.T))\n",
    "\n",
    "    return ancilla_density_matrix\n"
   ]
  },
  {
   "cell_type": "markdown",
   "id": "b0184626-e1ea-40da-bc9b-98daf50d313f",
   "metadata": {},
   "source": [
    "We implement a `rho_measure_rightmost_2_qubits` to measure the two rightmost qubits. This function calculates the probabilities of each possible outcome for the two-qubit measurement (using projectors), and then simulates a measurement result based on these probabilities using numpys `random.choice`.\n",
    "\n",
    "For some background: to define a measurement, we need a set of projection operators $P_i$, one for each possible measurement outcome. The probability of a given density matrix $\\rho$ giving outcome $i$ is\n",
    "$$\n",
    "p_i=\\text{tr}(P_i\\rho),\n",
    "$$\n",
    "For measurement of a single qubit, the projection operators are $P_0 = |0\\rangle\\langle0|$ and $P_1 = |1\\rangle\\langle1|$. So if we measure the the second (rightmost) qubit of the state $1/\\sqrt{2}(|00\\rangle +|11\\rangle)$, we expect \n",
    "$$p_0 = \\text{tr}\\left((I \\otimes |0\\rangle\\langle0|) \\cdot \\rho_{bell}\\right) = 1/2$$\n",
    "We then expect the post measurement (post_selected) outcome to be:\n",
    "\n",
    "$$\n",
    "\\rho' =\\frac{P_i\\rho P_i}{p_i}.\n",
    "$$"
   ]
  },
  {
   "cell_type": "code",
   "execution_count": 15,
   "id": "c067c565-10e3-490a-a371-2f9d46c6e56c",
   "metadata": {},
   "outputs": [],
   "source": [
    "def rho_measure_rightmost_2_qubits(rho):\n",
    "    # Define projection operators for two qubits (assuming ket_0 and ket_1 are defined)\n",
    "    P_00 = np.kron(ket_0, ket_0).dot(np.kron(ket_0, ket_0).T)\n",
    "    P_01 = np.kron(ket_0, ket_1).dot(np.kron(ket_0, ket_1).T)\n",
    "    P_10 = np.kron(ket_1, ket_0).dot(np.kron(ket_1, ket_0).T)\n",
    "    P_11 = np.kron(ket_1, ket_1).dot(np.kron(ket_1, ket_1).T)\n",
    "    \n",
    "    # Tensor projection operators with identity for the 3 leftmost qubits\n",
    "    I_3 = np.eye(8)  # Identity for 3 qubits\n",
    "    P_00_full = np.kron(I_3, P_00)\n",
    "    P_01_full = np.kron(I_3, P_01)\n",
    "    P_10_full = np.kron(I_3, P_10)\n",
    "    P_11_full = np.kron(I_3, P_11)\n",
    "    \n",
    "    # Compute probabilities for each outcome\n",
    "    p_00 = np.trace(P_00_full @ rho).real\n",
    "    p_01 = np.trace(P_01_full @ rho).real\n",
    "    p_10 = np.trace(P_10_full @ rho).real\n",
    "    p_11 = np.trace(P_11_full @ rho).real\n",
    "\n",
    "    # Randomly choose a measurement outcome based on the probabilities\n",
    "    outcomes = ['00', '01', '10', '11']\n",
    "    probabilities = [p_00, p_01, p_10, p_11]\n",
    "    chosen_outcome = np.random.choice(outcomes, p=probabilities)\n",
    "\n",
    "    \n",
    "    # Collapse the density matrix onto the chosen outcome\n",
    "    if chosen_outcome == '00':\n",
    "        rho_post = (P_00_full @ rho @ P_00_full.T) / p_00\n",
    "    elif chosen_outcome == '01':\n",
    "        rho_post = (P_01_full @ rho @ P_01_full.T) / p_01\n",
    "    elif chosen_outcome == '10':\n",
    "        rho_post = (P_10_full @ rho @ P_10_full.T) / p_10\n",
    "    else:  # '11'\n",
    "        rho_post = (P_11_full @ rho @ P_11_full.T) / p_11\n",
    "    \n",
    "    \n",
    "    return chosen_outcome, rho_post\n",
    "\n"
   ]
  },
  {
   "cell_type": "markdown",
   "id": "d40fe909-6891-4cfb-95ee-21d901498b74",
   "metadata": {},
   "source": [
    "We now define a correction function that uses the measurement outcome of the ancilla qubits to apply the appropriate error correction on the physical qubits. For example, if a bit flip is detected on the first qubit, we just apply $X_0I_1I_2I_3I_4$ to our state (including ancilla qubits). We do have the option of tracing out the ancilla qubits first and then correcting, but we haven't yet done this."
   ]
  },
  {
   "cell_type": "code",
   "execution_count": 16,
   "id": "953b3ee0-b81f-456d-9803-f03f71e7d024",
   "metadata": {},
   "outputs": [],
   "source": [
    "def rho_correct_density_matrix(rho, result):\n",
    "    \"\"\"\n",
    "    Correct the density matrix based on the measurement result of ancilla qubits.\n",
    "    \n",
    "    Parameters:\n",
    "    - rho: The density matrix to be corrected. It should be a numpy array of shape (32, 32) (including ancillas).\n",
    "    - result: The measurement outcome of the ancilla qubits. It should be one of ['00', '01', '10', '11'].\n",
    "    \n",
    "    Returns:\n",
    "    - corrected_rho: The corrected density matrix.\n",
    "    \"\"\"\n",
    "    # Define the correction operations\n",
    "    XII = tensor_product(X_gate, Identity, Identity, Identity, Identity)\n",
    "    IXI = tensor_product(Identity, X_gate, Identity, Identity, Identity)\n",
    "    IIX = tensor_product(Identity, Identity, X_gate, Identity, Identity)\n",
    "    \n",
    "    # Apply the correct operation based on the result\n",
    "    if result == '00':\n",
    "        # No correction needed\n",
    "        return rho\n",
    "    elif result == '01':\n",
    "        return IIX @ rho @ IIX.T\n",
    "    elif result == '10':\n",
    "        return XII @ rho @ XII.T\n",
    "    elif result == '11':\n",
    "        return IXI @ rho @ IXI.T\n",
    "    else:\n",
    "        raise ValueError(\"Invalid measurement result. Expected one of ['00', '01', '10', '11'].\")\n"
   ]
  },
  {
   "cell_type": "markdown",
   "id": "7139f513-dabf-44d7-9643-dd916f0c5af1",
   "metadata": {},
   "source": [
    "The `rho_three_qubit_bit_code_simulation` function simulates the entire process of detecting and correcting errors via the three-qubit bit-flip code using density matrices. We calcualte the `fidelity`, which is given by\n",
    "$$\n",
    "\\large F(\\rho,\\sigma) = \\left(\\text{tr}\\sqrt{\\sqrt{\\rho}\\sigma\\sqrt{\\rho}}\\right)^2\n",
    "$$\n",
    "for two states $\\rho$ and $\\sigma$. In our case, as we're just working with pure states, this is $F(\\rho\\sigma) = |\\langle \\psi_\\rho| \\psi_\\sigma\\rangle|$, i.e. success rate. We also calculate the partial trace of the system, tracing out the ancilla qubits via the method described [here](https://scicomp.stackexchange.com/questions/27496/calculating-partial-trace-of-array-in-numpy)."
   ]
  },
  {
   "cell_type": "code",
   "execution_count": 50,
   "id": "1ec6bd47-cf18-4a49-adb1-679972c85e24",
   "metadata": {},
   "outputs": [],
   "source": [
    "def fidelity(rho, sigma):\n",
    "    \"\"\"\n",
    "    Compute the fidelity between two density matrices, which quantifies the closeness of two quantum states.\n",
    "\n",
    "    Parameters:\n",
    "    rho (np.ndarray): The first density matrix, representing a quantum state.\n",
    "    sigma (np.ndarray): The second density matrix, representing a quantum state.\n",
    "\n",
    "    Returns:\n",
    "    float: The fidelity, ranging from 0 to 1, where 1 indicates identical states.\n",
    "    \"\"\"\n",
    "    # Compute the square root of the first density matrix\n",
    "    sqrt_rho = sqrtm(rho)\n",
    "    # Form the product of sqrt(rho), sigma, and sqrt(rho)\n",
    "    product = np.dot(sqrt_rho, np.dot(sigma, sqrt_rho))\n",
    "    # Compute the square root of the product matrix\n",
    "    sqrt_product = sqrtm(product)\n",
    "    # The fidelity is the square of the trace of sqrt_product\n",
    "    return np.real((np.trace(sqrt_product))**2) # Taking the real part to avoid any small imaginary parts due to numerical errors\n",
    "\n",
    "def rho_three_qubit_bit_code_simulation(initial_density_matrix, p, repetitions=10000):\n",
    "    fidelities = 0\n",
    "    for _ in range(repetitions):\n",
    "        # The whole process: encoding, applying error, adding ancillas, measuring, correcting, discarding ancillas.\n",
    "        \n",
    "        encoded_density = encode_logical_density_matrix(initial_density_matrix)\n",
    "        \n",
    "        error_applied_density = rho_error_channel(encoded_density, p)\n",
    "\n",
    "        ancilla_added_density = rho_add_ancilla_qubits(error_applied_density)\n",
    "\n",
    "        result, rho_post = rho_measure_rightmost_2_qubits(ancilla_added_density)\n",
    "        \n",
    "        corrected_density = rho_correct_density_matrix(rho_post, result)\n",
    "\n",
    "        #Partial trace calculation(will link to stack exchange soon...)\n",
    "        reshaped_array = corrected_density.reshape([8, 4, 8, 4])\n",
    "        \n",
    "        final_density = np.einsum('jiki->jk', reshaped_array)\n",
    "        \n",
    "        # Compute the fidelity between the final and the initial encoded state.\n",
    "        fidelities += fidelity(final_density, encoded_density)\n",
    "\n",
    "    return fidelities / repetitions  # Return the average fidelity"
   ]
  },
  {
   "cell_type": "markdown",
   "id": "36673c77-7875-4201-aaa7-ab7563134664",
   "metadata": {},
   "source": [
    "Now we can analyze the effectiveness of our 3-qubit bit-flip code by simulating its success rate for varying error probabilities. We also plot the 'theoretical' fidelity $1 - (3p^2 - 2p^3)$, which is the probability we stay in the correctable space (i.e. probability of only 0 or 1 bit flips occuring)."
   ]
  },
  {
   "cell_type": "code",
   "execution_count": 51,
   "id": "c194618b-9f0f-417e-a718-d9e79171675c",
   "metadata": {},
   "outputs": [],
   "source": [
    "# List of error probabilities to consider.\n",
    "error_probs = np.linspace(0, 1.0, 10)\n",
    "\n",
    "start_time = time.time()\n",
    "# Calculate average fidelities for each error probability.\n",
    "fidelities = [rho_three_qubit_bit_code_simulation(state_to_density_matrix(ket_0), p) for p in error_probs]\n",
    "end_time = time.time()"
   ]
  },
  {
   "cell_type": "code",
   "execution_count": 52,
   "id": "d6c10ba9-5c91-4da2-882a-c04836304209",
   "metadata": {},
   "outputs": [
    {
     "data": {
      "image/png": "[encoded data removed]",
      "text/plain": [
       "<Figure size 640x480 with 1 Axes>"
      ]
     },
     "metadata": {},
     "output_type": "display_data"
    }
   ],
   "source": [
    "\n",
    "# Plot the results for the 3-Qubit Code\n",
    "plt.plot(error_probs, fidelities, label='Logical Qubit', linestyle ='--')\n",
    "\n",
    "# Plot the Break Even line for a Single Qubit                             \n",
    "plt.plot(1- error_probs, error_probs, label='Physical Qubit')\n",
    "\n",
    "plt.xlabel('Error Probability (p)')\n",
    "plt.ylabel('Fidelity')\n",
    "# plt.title('Fidelity of 3-Qubit Bit-Flip Code vs. Single Qubit'\n",
    "plt.grid(\"True\")\n",
    "plt.legend()\n",
    "plt.show()"
   ]
  },
  {
   "cell_type": "code",
   "execution_count": 53,
   "id": "ec6c9bab-7fd1-4882-b8cd-ef56d6c93f19",
   "metadata": {},
   "outputs": [],
   "source": [
    "def rho_three_qubit_bit_code_simulation_cycles(initial_density_matrix, p, cycles=20, repetitions=10000):\n",
    "    # Initialize an array to store the average fidelity at each cycle, starting with fidelity 1 for cycle 0\n",
    "    average_fidelities = np.zeros(cycles + 1)\n",
    "    # average_fidelities[0] = 1.0  # Initial state fidelity is 1\n",
    "\n",
    "    for _ in range(repetitions):\n",
    "        # Generate the initial encoded state\n",
    "        current_density = encode_logical_density_matrix(initial_density_matrix)\n",
    "        fidelities = [1.0]  # Start with fidelity of 1 for the initial state\n",
    "\n",
    "        for cycle in range(1, cycles + 1):\n",
    "            # Apply the error and correction process\n",
    "            error_applied_density = rho_error_channel(current_density, p)\n",
    "            ancilla_added_density = rho_add_ancilla_qubits(error_applied_density)\n",
    "            result, rho_post = rho_measure_rightmost_2_qubits(ancilla_added_density)\n",
    "            corrected_density = rho_correct_density_matrix(rho_post, result)\n",
    "            \n",
    "            # Partial trace to obtain the reduced density matrix of the system\n",
    "            reshaped_array = corrected_density.reshape([8, 4, 8, 4])\n",
    "            current_density = np.einsum('jiki->jk', reshaped_array)\n",
    "            \n",
    "            # Compute the fidelity between the final and the initial encoded state\n",
    "            fidelity_value = fidelity(current_density, encode_logical_density_matrix(initial_density_matrix))\n",
    "            fidelities.append(fidelity_value)\n",
    "        \n",
    "        # Add the fidelities from this repetition to the running total\n",
    "        average_fidelities += np.array(fidelities)\n",
    "    \n",
    "    # Calculate the average fidelities over all repetitions\n",
    "    average_fidelities /= repetitions\n",
    "    return average_fidelities"
   ]
  },
  {
   "cell_type": "code",
   "execution_count": 54,
   "id": "3eaf58f8-4417-4a44-8cb6-a32f66699a82",
   "metadata": {},
   "outputs": [
    {
     "name": "stdout",
     "output_type": "stream",
     "text": [
      "Time taken: 56990.7956366539 s\n"
     ]
    },
    {
     "data": {
      "image/png": "[encoded data removed]",
      "text/plain": [
       "<Figure size 640x480 with 1 Axes>"
      ]
     },
     "metadata": {},
     "output_type": "display_data"
    }
   ],
   "source": [
    "# Assuming initial_density_matrix and other necessary quantum states/functions are defined elsewhere\n",
    "cycles = 10  # Number of cycles\n",
    "p_values = [0.01, 0.1]  # Simulate for p = 0.01 and p = 0.1, as requested\n",
    "\n",
    "start = time.time()\n",
    "\n",
    "# Simulate and plot the fidelity evolution for each logical (3-qubit code) error probability\n",
    "color_map = {0.01: 'blue', 0.1: 'red'}  # Color map for different probabilities\n",
    "\n",
    "for p in p_values:\n",
    "    fidelities_per_cycle = rho_three_qubit_bit_code_simulation_cycles(initial_density_matrix, p, cycles=cycles)\n",
    "    plt.plot(range(cycles + 1), fidelities_per_cycle, label=f'Logical Qubit, p={p}', linestyle=\"--\", color=color_map[p])\n",
    "\n",
    "# Add physical (single) qubit fidelity evolution lines for comparison\n",
    "for p in p_values:\n",
    "    single_qubit_fidelities = [(1 - p)**cycle for cycle in range(cycles + 1)]\n",
    "    plt.plot(range(cycles + 1), single_qubit_fidelities, label=f'Physical Qubit, p={p}', color=color_map[p])\n",
    "\n",
    "end = time.time()\n",
    "print(f\"Time taken: {end - start} s\")\n",
    "\n",
    "plt.xlabel('Cycle')\n",
    "plt.ylabel('Fidelity')\n",
    "plt.legend()\n",
    "plt.grid(True)\n",
    "plt.show()"
   ]
  }
 ],
 "metadata": {
  "kernelspec": {
   "display_name": "Python 3 (ipykernel)",
   "language": "python",
   "name": "python3"
  },
  "language_info": {
   "codemirror_mode": {
    "name": "ipython",
    "version": 3
   },
   "file_extension": ".py",
   "mimetype": "text/x-python",
   "name": "python",
   "nbconvert_exporter": "python",
   "pygments_lexer": "ipython3",
   "version": "3.8.18"
  }
 },
 "nbformat": 4,
 "nbformat_minor": 5
}
